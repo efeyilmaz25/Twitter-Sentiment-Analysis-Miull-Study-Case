{
  "nbformat": 4,
  "nbformat_minor": 0,
  "metadata": {
    "colab": {
      "provenance": []
    },
    "kernelspec": {
      "name": "python3",
      "display_name": "Python 3"
    },
    "language_info": {
      "name": "python"
    }
  },
  "cells": [
    {
      "cell_type": "markdown",
      "source": [
        "# **BUSINNESS PROBLEM**"
      ],
      "metadata": {
        "id": "PDHBFSUSbXes"
      }
    },
    {
      "cell_type": "markdown",
      "source": [
        "Predicting the tweets posted by Twitter users as positive, negative and neutral in terms of the sentiment they carry."
      ],
      "metadata": {
        "id": "WIKWV56LbcCj"
      }
    },
    {
      "cell_type": "markdown",
      "source": [
        "# **DATA SET STORY**"
      ],
      "metadata": {
        "id": "4OVVZcJke6HJ"
      }
    },
    {
      "cell_type": "markdown",
      "source": [
        "'tweet_labeled.csv' contains tweets posted on Twitter in 2022, the dates the tweets were posted, and labels with -1, 0, and 1 based on the sentiment in the tweets. 'tweets_21.csv' includes tweets from 2021."
      ],
      "metadata": {
        "id": "Os0X3G95fAXT"
      }
    },
    {
      "cell_type": "markdown",
      "source": [
        "# **FEATURE ENGİNEERİNG**"
      ],
      "metadata": {
        "id": "f9Riab-ffHmd"
      }
    },
    {
      "cell_type": "markdown",
      "source": [
        "First, let's include the libraries we need and set some display options using the pandas library.\n"
      ],
      "metadata": {
        "id": "J_lZGuWYfNaH"
      }
    },
    {
      "cell_type": "code",
      "source": [
        "import pandas as pd\n",
        "from datetime import datetime\n",
        "import seaborn as sns\n",
        "from warnings import filterwarnings\n",
        "import matplotlib.pyplot as plt\n",
        "import numpy as np"
      ],
      "metadata": {
        "id": "Rc5p47_rf19y"
      },
      "execution_count": 5,
      "outputs": []
    },
    {
      "cell_type": "code",
      "source": [
        "pd.set_option('display.max_columns', None)\n",
        "pd.set_option('display.width', 500)\n",
        "pd.set_option('display.float_format', lambda x: '%.3f' % x)"
      ],
      "metadata": {
        "id": "9rNOwhUIgQeW"
      },
      "execution_count": 6,
      "outputs": []
    },
    {
      "cell_type": "code",
      "source": [
        "filterwarnings('ignore')"
      ],
      "metadata": {
        "id": "O3Q6jjEzgR8B"
      },
      "execution_count": 7,
      "outputs": []
    },
    {
      "cell_type": "markdown",
      "source": [
        "Let's start our process by reading the 'labeled_tweets.csv' file"
      ],
      "metadata": {
        "id": "VRBQpNcUgpvZ"
      }
    },
    {
      "cell_type": "code",
      "source": [
        "df = pd.read_csv(\"tweets_labeled.csv\")"
      ],
      "metadata": {
        "id": "c_N1xRRJgqMJ"
      },
      "execution_count": 8,
      "outputs": []
    },
    {
      "cell_type": "markdown",
      "source": [
        "Let's examine the data."
      ],
      "metadata": {
        "id": "M0NrNB1ug0xd"
      }
    },
    {
      "cell_type": "code",
      "source": [
        "df.columns"
      ],
      "metadata": {
        "colab": {
          "base_uri": "https://localhost:8080/"
        },
        "id": "cwbt0Hx5g1mx",
        "outputId": "d3ffc88d-51a1-4918-e59d-803fd2e54cfa"
      },
      "execution_count": 9,
      "outputs": [
        {
          "output_type": "execute_result",
          "data": {
            "text/plain": [
              "Index(['tweet_id', 'tweet', 'date', 'label'], dtype='object')"
            ]
          },
          "metadata": {},
          "execution_count": 9
        }
      ]
    },
    {
      "cell_type": "code",
      "source": [
        "df.shape"
      ],
      "metadata": {
        "colab": {
          "base_uri": "https://localhost:8080/"
        },
        "id": "ZiKEcbEHg4rh",
        "outputId": "1833c0bc-1a4f-4d0f-91b1-c9111e9ff1c7"
      },
      "execution_count": 10,
      "outputs": [
        {
          "output_type": "execute_result",
          "data": {
            "text/plain": [
              "(12960, 4)"
            ]
          },
          "metadata": {},
          "execution_count": 10
        }
      ]
    },
    {
      "cell_type": "code",
      "source": [
        "df.head()"
      ],
      "metadata": {
        "colab": {
          "base_uri": "https://localhost:8080/",
          "height": 206
        },
        "id": "F2q1p6Yfg6uB",
        "outputId": "44607655-55bf-4f6f-a31d-d13f86b4196a"
      },
      "execution_count": 11,
      "outputs": [
        {
          "output_type": "execute_result",
          "data": {
            "text/plain": [
              "              tweet_id                                              tweet                       date  label\n",
              "0  1606767075984375808  Berk Ali (kedim) seni çok özledim. Ölmek için ...  2022-12-24 21:41:37+00:00      1\n",
              "1  1537178207677448193  Yani, öylesine ciddiye alacaksın ki yaşamayı, ...  2022-06-15 21:00:18+00:00      1\n",
              "2  1536458790802972673            saçlarının gölgesinde\\nölmek ne güzeldi  2022-06-13 21:21:36+00:00      1\n",
              "3  1495413883166760960  Öyle güzel baktın ki, gözlerime\\nsevmek değil ...  2022-02-20 15:03:47+00:00      1\n",
              "4  1490420667614904334  sevmek biri için ölmek değil her şeye rağmen y...  2022-02-06 20:22:32+00:00      1"
            ],
            "text/html": [
              "\n",
              "  <div id=\"df-4c40962d-d812-4c4b-84d6-ab381b5698a5\" class=\"colab-df-container\">\n",
              "    <div>\n",
              "<style scoped>\n",
              "    .dataframe tbody tr th:only-of-type {\n",
              "        vertical-align: middle;\n",
              "    }\n",
              "\n",
              "    .dataframe tbody tr th {\n",
              "        vertical-align: top;\n",
              "    }\n",
              "\n",
              "    .dataframe thead th {\n",
              "        text-align: right;\n",
              "    }\n",
              "</style>\n",
              "<table border=\"1\" class=\"dataframe\">\n",
              "  <thead>\n",
              "    <tr style=\"text-align: right;\">\n",
              "      <th></th>\n",
              "      <th>tweet_id</th>\n",
              "      <th>tweet</th>\n",
              "      <th>date</th>\n",
              "      <th>label</th>\n",
              "    </tr>\n",
              "  </thead>\n",
              "  <tbody>\n",
              "    <tr>\n",
              "      <th>0</th>\n",
              "      <td>1606767075984375808</td>\n",
              "      <td>Berk Ali (kedim) seni çok özledim. Ölmek için ...</td>\n",
              "      <td>2022-12-24 21:41:37+00:00</td>\n",
              "      <td>1</td>\n",
              "    </tr>\n",
              "    <tr>\n",
              "      <th>1</th>\n",
              "      <td>1537178207677448193</td>\n",
              "      <td>Yani, öylesine ciddiye alacaksın ki yaşamayı, ...</td>\n",
              "      <td>2022-06-15 21:00:18+00:00</td>\n",
              "      <td>1</td>\n",
              "    </tr>\n",
              "    <tr>\n",
              "      <th>2</th>\n",
              "      <td>1536458790802972673</td>\n",
              "      <td>saçlarının gölgesinde\\nölmek ne güzeldi</td>\n",
              "      <td>2022-06-13 21:21:36+00:00</td>\n",
              "      <td>1</td>\n",
              "    </tr>\n",
              "    <tr>\n",
              "      <th>3</th>\n",
              "      <td>1495413883166760960</td>\n",
              "      <td>Öyle güzel baktın ki, gözlerime\\nsevmek değil ...</td>\n",
              "      <td>2022-02-20 15:03:47+00:00</td>\n",
              "      <td>1</td>\n",
              "    </tr>\n",
              "    <tr>\n",
              "      <th>4</th>\n",
              "      <td>1490420667614904334</td>\n",
              "      <td>sevmek biri için ölmek değil her şeye rağmen y...</td>\n",
              "      <td>2022-02-06 20:22:32+00:00</td>\n",
              "      <td>1</td>\n",
              "    </tr>\n",
              "  </tbody>\n",
              "</table>\n",
              "</div>\n",
              "    <div class=\"colab-df-buttons\">\n",
              "\n",
              "  <div class=\"colab-df-container\">\n",
              "    <button class=\"colab-df-convert\" onclick=\"convertToInteractive('df-4c40962d-d812-4c4b-84d6-ab381b5698a5')\"\n",
              "            title=\"Convert this dataframe to an interactive table.\"\n",
              "            style=\"display:none;\">\n",
              "\n",
              "  <svg xmlns=\"http://www.w3.org/2000/svg\" height=\"24px\" viewBox=\"0 -960 960 960\">\n",
              "    <path d=\"M120-120v-720h720v720H120Zm60-500h600v-160H180v160Zm220 220h160v-160H400v160Zm0 220h160v-160H400v160ZM180-400h160v-160H180v160Zm440 0h160v-160H620v160ZM180-180h160v-160H180v160Zm440 0h160v-160H620v160Z\"/>\n",
              "  </svg>\n",
              "    </button>\n",
              "\n",
              "  <style>\n",
              "    .colab-df-container {\n",
              "      display:flex;\n",
              "      gap: 12px;\n",
              "    }\n",
              "\n",
              "    .colab-df-convert {\n",
              "      background-color: #E8F0FE;\n",
              "      border: none;\n",
              "      border-radius: 50%;\n",
              "      cursor: pointer;\n",
              "      display: none;\n",
              "      fill: #1967D2;\n",
              "      height: 32px;\n",
              "      padding: 0 0 0 0;\n",
              "      width: 32px;\n",
              "    }\n",
              "\n",
              "    .colab-df-convert:hover {\n",
              "      background-color: #E2EBFA;\n",
              "      box-shadow: 0px 1px 2px rgba(60, 64, 67, 0.3), 0px 1px 3px 1px rgba(60, 64, 67, 0.15);\n",
              "      fill: #174EA6;\n",
              "    }\n",
              "\n",
              "    .colab-df-buttons div {\n",
              "      margin-bottom: 4px;\n",
              "    }\n",
              "\n",
              "    [theme=dark] .colab-df-convert {\n",
              "      background-color: #3B4455;\n",
              "      fill: #D2E3FC;\n",
              "    }\n",
              "\n",
              "    [theme=dark] .colab-df-convert:hover {\n",
              "      background-color: #434B5C;\n",
              "      box-shadow: 0px 1px 3px 1px rgba(0, 0, 0, 0.15);\n",
              "      filter: drop-shadow(0px 1px 2px rgba(0, 0, 0, 0.3));\n",
              "      fill: #FFFFFF;\n",
              "    }\n",
              "  </style>\n",
              "\n",
              "    <script>\n",
              "      const buttonEl =\n",
              "        document.querySelector('#df-4c40962d-d812-4c4b-84d6-ab381b5698a5 button.colab-df-convert');\n",
              "      buttonEl.style.display =\n",
              "        google.colab.kernel.accessAllowed ? 'block' : 'none';\n",
              "\n",
              "      async function convertToInteractive(key) {\n",
              "        const element = document.querySelector('#df-4c40962d-d812-4c4b-84d6-ab381b5698a5');\n",
              "        const dataTable =\n",
              "          await google.colab.kernel.invokeFunction('convertToInteractive',\n",
              "                                                    [key], {});\n",
              "        if (!dataTable) return;\n",
              "\n",
              "        const docLinkHtml = 'Like what you see? Visit the ' +\n",
              "          '<a target=\"_blank\" href=https://colab.research.google.com/notebooks/data_table.ipynb>data table notebook</a>'\n",
              "          + ' to learn more about interactive tables.';\n",
              "        element.innerHTML = '';\n",
              "        dataTable['output_type'] = 'display_data';\n",
              "        await google.colab.output.renderOutput(dataTable, element);\n",
              "        const docLink = document.createElement('div');\n",
              "        docLink.innerHTML = docLinkHtml;\n",
              "        element.appendChild(docLink);\n",
              "      }\n",
              "    </script>\n",
              "  </div>\n",
              "\n",
              "\n",
              "<div id=\"df-4342a892-d831-4e52-8f29-f23a17c13fe9\">\n",
              "  <button class=\"colab-df-quickchart\" onclick=\"quickchart('df-4342a892-d831-4e52-8f29-f23a17c13fe9')\"\n",
              "            title=\"Suggest charts\"\n",
              "            style=\"display:none;\">\n",
              "\n",
              "<svg xmlns=\"http://www.w3.org/2000/svg\" height=\"24px\"viewBox=\"0 0 24 24\"\n",
              "     width=\"24px\">\n",
              "    <g>\n",
              "        <path d=\"M19 3H5c-1.1 0-2 .9-2 2v14c0 1.1.9 2 2 2h14c1.1 0 2-.9 2-2V5c0-1.1-.9-2-2-2zM9 17H7v-7h2v7zm4 0h-2V7h2v10zm4 0h-2v-4h2v4z\"/>\n",
              "    </g>\n",
              "</svg>\n",
              "  </button>\n",
              "\n",
              "<style>\n",
              "  .colab-df-quickchart {\n",
              "      --bg-color: #E8F0FE;\n",
              "      --fill-color: #1967D2;\n",
              "      --hover-bg-color: #E2EBFA;\n",
              "      --hover-fill-color: #174EA6;\n",
              "      --disabled-fill-color: #AAA;\n",
              "      --disabled-bg-color: #DDD;\n",
              "  }\n",
              "\n",
              "  [theme=dark] .colab-df-quickchart {\n",
              "      --bg-color: #3B4455;\n",
              "      --fill-color: #D2E3FC;\n",
              "      --hover-bg-color: #434B5C;\n",
              "      --hover-fill-color: #FFFFFF;\n",
              "      --disabled-bg-color: #3B4455;\n",
              "      --disabled-fill-color: #666;\n",
              "  }\n",
              "\n",
              "  .colab-df-quickchart {\n",
              "    background-color: var(--bg-color);\n",
              "    border: none;\n",
              "    border-radius: 50%;\n",
              "    cursor: pointer;\n",
              "    display: none;\n",
              "    fill: var(--fill-color);\n",
              "    height: 32px;\n",
              "    padding: 0;\n",
              "    width: 32px;\n",
              "  }\n",
              "\n",
              "  .colab-df-quickchart:hover {\n",
              "    background-color: var(--hover-bg-color);\n",
              "    box-shadow: 0 1px 2px rgba(60, 64, 67, 0.3), 0 1px 3px 1px rgba(60, 64, 67, 0.15);\n",
              "    fill: var(--button-hover-fill-color);\n",
              "  }\n",
              "\n",
              "  .colab-df-quickchart-complete:disabled,\n",
              "  .colab-df-quickchart-complete:disabled:hover {\n",
              "    background-color: var(--disabled-bg-color);\n",
              "    fill: var(--disabled-fill-color);\n",
              "    box-shadow: none;\n",
              "  }\n",
              "\n",
              "  .colab-df-spinner {\n",
              "    border: 2px solid var(--fill-color);\n",
              "    border-color: transparent;\n",
              "    border-bottom-color: var(--fill-color);\n",
              "    animation:\n",
              "      spin 1s steps(1) infinite;\n",
              "  }\n",
              "\n",
              "  @keyframes spin {\n",
              "    0% {\n",
              "      border-color: transparent;\n",
              "      border-bottom-color: var(--fill-color);\n",
              "      border-left-color: var(--fill-color);\n",
              "    }\n",
              "    20% {\n",
              "      border-color: transparent;\n",
              "      border-left-color: var(--fill-color);\n",
              "      border-top-color: var(--fill-color);\n",
              "    }\n",
              "    30% {\n",
              "      border-color: transparent;\n",
              "      border-left-color: var(--fill-color);\n",
              "      border-top-color: var(--fill-color);\n",
              "      border-right-color: var(--fill-color);\n",
              "    }\n",
              "    40% {\n",
              "      border-color: transparent;\n",
              "      border-right-color: var(--fill-color);\n",
              "      border-top-color: var(--fill-color);\n",
              "    }\n",
              "    60% {\n",
              "      border-color: transparent;\n",
              "      border-right-color: var(--fill-color);\n",
              "    }\n",
              "    80% {\n",
              "      border-color: transparent;\n",
              "      border-right-color: var(--fill-color);\n",
              "      border-bottom-color: var(--fill-color);\n",
              "    }\n",
              "    90% {\n",
              "      border-color: transparent;\n",
              "      border-bottom-color: var(--fill-color);\n",
              "    }\n",
              "  }\n",
              "</style>\n",
              "\n",
              "  <script>\n",
              "    async function quickchart(key) {\n",
              "      const quickchartButtonEl =\n",
              "        document.querySelector('#' + key + ' button');\n",
              "      quickchartButtonEl.disabled = true;  // To prevent multiple clicks.\n",
              "      quickchartButtonEl.classList.add('colab-df-spinner');\n",
              "      try {\n",
              "        const charts = await google.colab.kernel.invokeFunction(\n",
              "            'suggestCharts', [key], {});\n",
              "      } catch (error) {\n",
              "        console.error('Error during call to suggestCharts:', error);\n",
              "      }\n",
              "      quickchartButtonEl.classList.remove('colab-df-spinner');\n",
              "      quickchartButtonEl.classList.add('colab-df-quickchart-complete');\n",
              "    }\n",
              "    (() => {\n",
              "      let quickchartButtonEl =\n",
              "        document.querySelector('#df-4342a892-d831-4e52-8f29-f23a17c13fe9 button');\n",
              "      quickchartButtonEl.style.display =\n",
              "        google.colab.kernel.accessAllowed ? 'block' : 'none';\n",
              "    })();\n",
              "  </script>\n",
              "</div>\n",
              "\n",
              "    </div>\n",
              "  </div>\n"
            ],
            "application/vnd.google.colaboratory.intrinsic+json": {
              "type": "dataframe",
              "variable_name": "df",
              "summary": "{\n  \"name\": \"df\",\n  \"rows\": 12960,\n  \"fields\": [\n    {\n      \"column\": \"tweet_id\",\n      \"properties\": {\n        \"dtype\": \"number\",\n        \"std\": 41064049013369808,\n        \"min\": 1477067251597590529,\n        \"max\": 1608967619062923268,\n        \"num_unique_values\": 12960,\n        \"samples\": [\n          1605251839750029316,\n          1494357491869749251,\n          1520209714084208642\n        ],\n        \"semantic_type\": \"\",\n        \"description\": \"\"\n      }\n    },\n    {\n      \"column\": \"tweet\",\n      \"properties\": {\n        \"dtype\": \"string\",\n        \"num_unique_values\": 12959,\n        \"samples\": [\n          \"UMUT KA\\u00c7 KERE KIRILIR\",\n          \"Mertens T\\u00fcrkiye\\u2019de gol sevincinden sonra \\ud83d\\udfe8 \\nEvet:1,15\\nHay\\u0131r: 10,00\",\n          \"karanl\\u0131k g\\u00fcnlerime \\u0131\\u015f\\u0131k tutan\\u0131m\\n iyiki hayat\\u0131mdas\\u0131n\\ud83d\\udc9a\"\n        ],\n        \"semantic_type\": \"\",\n        \"description\": \"\"\n      }\n    },\n    {\n      \"column\": \"date\",\n      \"properties\": {\n        \"dtype\": \"object\",\n        \"num_unique_values\": 12933,\n        \"samples\": [\n          \"2022-12-03 17:18:45+00:00\",\n          \"2022-07-17 04:48:32+00:00\",\n          \"2022-08-16 11:58:05+00:00\"\n        ],\n        \"semantic_type\": \"\",\n        \"description\": \"\"\n      }\n    },\n    {\n      \"column\": \"label\",\n      \"properties\": {\n        \"dtype\": \"number\",\n        \"std\": 0,\n        \"min\": -1,\n        \"max\": 1,\n        \"num_unique_values\": 3,\n        \"samples\": [\n          1,\n          0,\n          -1\n        ],\n        \"semantic_type\": \"\",\n        \"description\": \"\"\n      }\n    }\n  ]\n}"
            }
          },
          "metadata": {},
          "execution_count": 11
        }
      ]
    },
    {
      "cell_type": "code",
      "source": [
        "df.info()"
      ],
      "metadata": {
        "colab": {
          "base_uri": "https://localhost:8080/"
        },
        "id": "XjVUfl4vg9iU",
        "outputId": "aa4c4056-9db5-4ad8-ef95-4c0f7f1505b4"
      },
      "execution_count": 12,
      "outputs": [
        {
          "output_type": "stream",
          "name": "stdout",
          "text": [
            "<class 'pandas.core.frame.DataFrame'>\n",
            "RangeIndex: 12960 entries, 0 to 12959\n",
            "Data columns (total 4 columns):\n",
            " #   Column    Non-Null Count  Dtype \n",
            "---  ------    --------------  ----- \n",
            " 0   tweet_id  12960 non-null  int64 \n",
            " 1   tweet     12959 non-null  object\n",
            " 2   date      12960 non-null  object\n",
            " 3   label     12960 non-null  int64 \n",
            "dtypes: int64(2), object(2)\n",
            "memory usage: 405.1+ KB\n"
          ]
        }
      ]
    },
    {
      "cell_type": "code",
      "source": [
        "df.isnull().sum()"
      ],
      "metadata": {
        "colab": {
          "base_uri": "https://localhost:8080/",
          "height": 210
        },
        "id": "Doj0EbDUkQJT",
        "outputId": "84667801-2bfb-48c0-e857-8b48b7341c82"
      },
      "execution_count": 13,
      "outputs": [
        {
          "output_type": "execute_result",
          "data": {
            "text/plain": [
              "tweet_id    0\n",
              "tweet       1\n",
              "date        0\n",
              "label       0\n",
              "dtype: int64"
            ],
            "text/html": [
              "<div>\n",
              "<style scoped>\n",
              "    .dataframe tbody tr th:only-of-type {\n",
              "        vertical-align: middle;\n",
              "    }\n",
              "\n",
              "    .dataframe tbody tr th {\n",
              "        vertical-align: top;\n",
              "    }\n",
              "\n",
              "    .dataframe thead th {\n",
              "        text-align: right;\n",
              "    }\n",
              "</style>\n",
              "<table border=\"1\" class=\"dataframe\">\n",
              "  <thead>\n",
              "    <tr style=\"text-align: right;\">\n",
              "      <th></th>\n",
              "      <th>0</th>\n",
              "    </tr>\n",
              "  </thead>\n",
              "  <tbody>\n",
              "    <tr>\n",
              "      <th>tweet_id</th>\n",
              "      <td>0</td>\n",
              "    </tr>\n",
              "    <tr>\n",
              "      <th>tweet</th>\n",
              "      <td>1</td>\n",
              "    </tr>\n",
              "    <tr>\n",
              "      <th>date</th>\n",
              "      <td>0</td>\n",
              "    </tr>\n",
              "    <tr>\n",
              "      <th>label</th>\n",
              "      <td>0</td>\n",
              "    </tr>\n",
              "  </tbody>\n",
              "</table>\n",
              "</div><br><label><b>dtype:</b> int64</label>"
            ]
          },
          "metadata": {},
          "execution_count": 13
        }
      ]
    },
    {
      "cell_type": "markdown",
      "source": [
        "As you can see, there is 1 missing value in our data set. Let's remove this missing value from the data set."
      ],
      "metadata": {
        "id": "s_sjbTickZkw"
      }
    },
    {
      "cell_type": "code",
      "source": [
        "df = df.dropna()"
      ],
      "metadata": {
        "id": "3ID2hjx6k36T"
      },
      "execution_count": 14,
      "outputs": []
    },
    {
      "cell_type": "markdown",
      "source": [
        "Now let's change the 'date' variable so that the time zone is GMT+03:00."
      ],
      "metadata": {
        "id": "iBnCuw-nlFxb"
      }
    },
    {
      "cell_type": "code",
      "source": [
        "df['date'] = pd.to_datetime(df['date'], errors='coerce')\n",
        "if df['date'].dt.tz is None:\n",
        "  df['date'] = df['date'].dt.tz_localize('GMT')\n",
        "df['date'] = df['date'].dt.tz_convert('Etc/GMT-3')"
      ],
      "metadata": {
        "id": "r-6-0aWmmw6e"
      },
      "execution_count": 15,
      "outputs": []
    },
    {
      "cell_type": "markdown",
      "source": [
        "Now let's create the variables 'season', 'day' and '4_intervals'."
      ],
      "metadata": {
        "id": "N6eHCJrzoWBU"
      }
    },
    {
      "cell_type": "code",
      "source": [
        "def get_season(date):\n",
        "    month = date.month\n",
        "    if month in [12, 1, 2]:\n",
        "        return 'Winter'\n",
        "    elif month in [3, 4, 5]:\n",
        "        return 'Spring'\n",
        "    elif month in [6, 7, 8]:\n",
        "        return 'Summer'\n",
        "    else:\n",
        "        return 'Autumn'"
      ],
      "metadata": {
        "id": "4RPgdSYlohJ3"
      },
      "execution_count": 16,
      "outputs": []
    },
    {
      "cell_type": "code",
      "source": [
        "df['season'] = df['date'].apply(get_season)"
      ],
      "metadata": {
        "id": "dXjfKTe6ovxh"
      },
      "execution_count": 17,
      "outputs": []
    },
    {
      "cell_type": "code",
      "source": [
        "df[\"day\"] = [date.strftime('%A') for date in df[\"date\"]]"
      ],
      "metadata": {
        "id": "yqsvhn7Mo8SV"
      },
      "execution_count": 18,
      "outputs": []
    },
    {
      "cell_type": "code",
      "source": [
        "def get_time_period(date):\n",
        "    hour = date.hour\n",
        "    if 22 <= hour or hour < 2:\n",
        "        return '22:00-02:00'\n",
        "    elif 2 <= hour < 6:\n",
        "        return '02:00-06:00'\n",
        "    elif 6 <= hour < 10:\n",
        "        return '06:00-10:00'\n",
        "    elif 10 <= hour < 14:\n",
        "        return '10:00-14:00'\n",
        "    elif 14 <= hour < 18:\n",
        "        return '14:00-18:00'\n",
        "    else:\n",
        "        return '18:00-22:00'"
      ],
      "metadata": {
        "id": "LIVnCmI3qd3K"
      },
      "execution_count": 19,
      "outputs": []
    },
    {
      "cell_type": "code",
      "source": [
        "df['4_intervals'] = df['date'].apply(get_time_period)"
      ],
      "metadata": {
        "id": "uKsYwBVzqekw"
      },
      "execution_count": 20,
      "outputs": []
    },
    {
      "cell_type": "code",
      "source": [
        "print(df[['date', 'season', 'day', '4_intervals']].head())"
      ],
      "metadata": {
        "colab": {
          "base_uri": "https://localhost:8080/"
        },
        "id": "ewPr_FHtqou6",
        "outputId": "86b6090e-5d86-4907-90b3-3c4d53f394ff"
      },
      "execution_count": 21,
      "outputs": [
        {
          "output_type": "stream",
          "name": "stdout",
          "text": [
            "                       date  season       day  4_intervals\n",
            "0 2022-12-25 00:41:37+03:00  Winter    Sunday  22:00-02:00\n",
            "1 2022-06-16 00:00:18+03:00  Summer  Thursday  22:00-02:00\n",
            "2 2022-06-14 00:21:36+03:00  Summer   Tuesday  22:00-02:00\n",
            "3 2022-02-20 18:03:47+03:00  Winter    Sunday  18:00-22:00\n",
            "4 2022-02-06 23:22:32+03:00  Winter    Sunday  22:00-02:00\n"
          ]
        }
      ]
    },
    {
      "cell_type": "markdown",
      "source": [
        "Now let's change the 'label variable' so that 1=positive, -1=negative and 0=neutral."
      ],
      "metadata": {
        "id": "sgNI6qEJrIUr"
      }
    },
    {
      "cell_type": "code",
      "source": [
        "df['label'] = df['label'].map({1: 'positive', -1: 'negative', 0: 'neutral'})"
      ],
      "metadata": {
        "id": "Wn-6_4Rxr0gg"
      },
      "execution_count": 22,
      "outputs": []
    },
    {
      "cell_type": "markdown",
      "source": [
        "Now let's capture the numerical and categorical variables."
      ],
      "metadata": {
        "id": "CDM5gykPsxGX"
      }
    },
    {
      "cell_type": "code",
      "source": [
        "df.dtypes"
      ],
      "metadata": {
        "colab": {
          "base_uri": "https://localhost:8080/",
          "height": 304
        },
        "id": "AJ6y3OsPsxXP",
        "outputId": "c5f9abc9-e976-451b-f367-2b4aff7897a2"
      },
      "execution_count": 23,
      "outputs": [
        {
          "output_type": "execute_result",
          "data": {
            "text/plain": [
              "tweet_id                           int64\n",
              "tweet                             object\n",
              "date           datetime64[ns, Etc/GMT-3]\n",
              "label                             object\n",
              "season                            object\n",
              "day                               object\n",
              "4_intervals                       object\n",
              "dtype: object"
            ],
            "text/html": [
              "<div>\n",
              "<style scoped>\n",
              "    .dataframe tbody tr th:only-of-type {\n",
              "        vertical-align: middle;\n",
              "    }\n",
              "\n",
              "    .dataframe tbody tr th {\n",
              "        vertical-align: top;\n",
              "    }\n",
              "\n",
              "    .dataframe thead th {\n",
              "        text-align: right;\n",
              "    }\n",
              "</style>\n",
              "<table border=\"1\" class=\"dataframe\">\n",
              "  <thead>\n",
              "    <tr style=\"text-align: right;\">\n",
              "      <th></th>\n",
              "      <th>0</th>\n",
              "    </tr>\n",
              "  </thead>\n",
              "  <tbody>\n",
              "    <tr>\n",
              "      <th>tweet_id</th>\n",
              "      <td>int64</td>\n",
              "    </tr>\n",
              "    <tr>\n",
              "      <th>tweet</th>\n",
              "      <td>object</td>\n",
              "    </tr>\n",
              "    <tr>\n",
              "      <th>date</th>\n",
              "      <td>datetime64[ns, Etc/GMT-3]</td>\n",
              "    </tr>\n",
              "    <tr>\n",
              "      <th>label</th>\n",
              "      <td>object</td>\n",
              "    </tr>\n",
              "    <tr>\n",
              "      <th>season</th>\n",
              "      <td>object</td>\n",
              "    </tr>\n",
              "    <tr>\n",
              "      <th>day</th>\n",
              "      <td>object</td>\n",
              "    </tr>\n",
              "    <tr>\n",
              "      <th>4_intervals</th>\n",
              "      <td>object</td>\n",
              "    </tr>\n",
              "  </tbody>\n",
              "</table>\n",
              "</div><br><label><b>dtype:</b> object</label>"
            ]
          },
          "metadata": {},
          "execution_count": 23
        }
      ]
    },
    {
      "cell_type": "code",
      "source": [
        "categorical_features = df.select_dtypes(include=['object']).columns.tolist()\n",
        "numeric_features = df.select_dtypes(include=['number']).columns.tolist()"
      ],
      "metadata": {
        "id": "HnLBE2GmtPjx"
      },
      "execution_count": 24,
      "outputs": []
    },
    {
      "cell_type": "markdown",
      "source": [
        "Now let's examine the target variable"
      ],
      "metadata": {
        "id": "zo6m5hXcfbBX"
      }
    },
    {
      "cell_type": "code",
      "source": [
        "df['label'].value_counts()"
      ],
      "metadata": {
        "colab": {
          "base_uri": "https://localhost:8080/",
          "height": 210
        },
        "id": "GTd2XaHUfbZh",
        "outputId": "778d7d7d-82ec-407b-d830-d530b8ae8182"
      },
      "execution_count": 25,
      "outputs": [
        {
          "output_type": "execute_result",
          "data": {
            "text/plain": [
              "label\n",
              "neutral     8448\n",
              "negative    2904\n",
              "positive    1607\n",
              "Name: count, dtype: int64"
            ],
            "text/html": [
              "<div>\n",
              "<style scoped>\n",
              "    .dataframe tbody tr th:only-of-type {\n",
              "        vertical-align: middle;\n",
              "    }\n",
              "\n",
              "    .dataframe tbody tr th {\n",
              "        vertical-align: top;\n",
              "    }\n",
              "\n",
              "    .dataframe thead th {\n",
              "        text-align: right;\n",
              "    }\n",
              "</style>\n",
              "<table border=\"1\" class=\"dataframe\">\n",
              "  <thead>\n",
              "    <tr style=\"text-align: right;\">\n",
              "      <th></th>\n",
              "      <th>count</th>\n",
              "    </tr>\n",
              "    <tr>\n",
              "      <th>label</th>\n",
              "      <th></th>\n",
              "    </tr>\n",
              "  </thead>\n",
              "  <tbody>\n",
              "    <tr>\n",
              "      <th>neutral</th>\n",
              "      <td>8448</td>\n",
              "    </tr>\n",
              "    <tr>\n",
              "      <th>negative</th>\n",
              "      <td>2904</td>\n",
              "    </tr>\n",
              "    <tr>\n",
              "      <th>positive</th>\n",
              "      <td>1607</td>\n",
              "    </tr>\n",
              "  </tbody>\n",
              "</table>\n",
              "</div><br><label><b>dtype:</b> int64</label>"
            ]
          },
          "metadata": {},
          "execution_count": 25
        }
      ]
    },
    {
      "cell_type": "code",
      "source": [
        "plt.figure(figsize=(8, 6))\n",
        "df['label'].value_counts().plot(kind='bar', color='skyblue')\n",
        "plt.title('Label Frequency Distribution')\n",
        "plt.xlabel('Label')\n",
        "plt.ylabel('Frequency')\n",
        "plt.show()"
      ],
      "metadata": {
        "colab": {
          "base_uri": "https://localhost:8080/",
          "height": 611
        },
        "id": "HWaJOQDqftuA",
        "outputId": "eec41afd-7e5c-421e-ffd0-37e62741af39"
      },
      "execution_count": 26,
      "outputs": [
        {
          "output_type": "display_data",
          "data": {
            "text/plain": [
              "<Figure size 800x600 with 1 Axes>"
            ],
            "image/png": "[encoded data removed]"
          },
          "metadata": {}
        }
      ]
    },
    {
      "cell_type": "code",
      "source": [
        "100*df[\"label\"].value_counts()/len(df)"
      ],
      "metadata": {
        "colab": {
          "base_uri": "https://localhost:8080/",
          "height": 210
        },
        "id": "KqG_txJPgL7P",
        "outputId": "98372be3-bb61-4fa7-d9df-9b24cbefc018"
      },
      "execution_count": 27,
      "outputs": [
        {
          "output_type": "execute_result",
          "data": {
            "text/plain": [
              "label\n",
              "neutral    65.190\n",
              "negative   22.409\n",
              "positive   12.401\n",
              "Name: count, dtype: float64"
            ],
            "text/html": [
              "<div>\n",
              "<style scoped>\n",
              "    .dataframe tbody tr th:only-of-type {\n",
              "        vertical-align: middle;\n",
              "    }\n",
              "\n",
              "    .dataframe tbody tr th {\n",
              "        vertical-align: top;\n",
              "    }\n",
              "\n",
              "    .dataframe thead th {\n",
              "        text-align: right;\n",
              "    }\n",
              "</style>\n",
              "<table border=\"1\" class=\"dataframe\">\n",
              "  <thead>\n",
              "    <tr style=\"text-align: right;\">\n",
              "      <th></th>\n",
              "      <th>count</th>\n",
              "    </tr>\n",
              "    <tr>\n",
              "      <th>label</th>\n",
              "      <th></th>\n",
              "    </tr>\n",
              "  </thead>\n",
              "  <tbody>\n",
              "    <tr>\n",
              "      <th>neutral</th>\n",
              "      <td>65.190</td>\n",
              "    </tr>\n",
              "    <tr>\n",
              "      <th>negative</th>\n",
              "      <td>22.409</td>\n",
              "    </tr>\n",
              "    <tr>\n",
              "      <th>positive</th>\n",
              "      <td>12.401</td>\n",
              "    </tr>\n",
              "  </tbody>\n",
              "</table>\n",
              "</div><br><label><b>dtype:</b> float64</label>"
            ]
          },
          "metadata": {},
          "execution_count": 27
        }
      ]
    },
    {
      "cell_type": "code",
      "source": [
        "import plotly.graph_objects as go\n",
        "colors = ['green', 'orange', 'blue']\n",
        "labels = ['positive','negative', 'neutral']\n",
        "values = df['label'].value_counts()/df['label'].shape[0]\n",
        "\n",
        "fig = go.Figure(data=[go.Pie(labels=labels, values=values, hole=.3)])\n",
        "fig.update_traces(hoverinfo='label+percent', textinfo='percent', textfont_size=40,\n",
        "                  marker=dict(colors=colors, line=dict(color='black', width=5)))\n",
        "fig.update_layout(\n",
        "    title_text=\"label\")\n",
        "fig.show()"
      ],
      "metadata": {
        "colab": {
          "base_uri": "https://localhost:8080/",
          "height": 542
        },
        "id": "hK1A2geVhCAY",
        "outputId": "5186df51-f13a-4093-bfc3-a7ab02ab4c26"
      },
      "execution_count": 28,
      "outputs": [
        {
          "output_type": "display_data",
          "data": {
            "text/html": [
              "<html>\n",
              "<head><meta charset=\"utf-8\" /></head>\n",
              "<body>\n",
              "    <div>            <script src=\"https://cdnjs.cloudflare.com/ajax/libs/mathjax/2.7.5/MathJax.js?config=TeX-AMS-MML_SVG\"></script><script type=\"text/javascript\">if (window.MathJax && window.MathJax.Hub && window.MathJax.Hub.Config) {window.MathJax.Hub.Config({SVG: {font: \"STIX-Web\"}});}</script>                <script type=\"text/javascript\">window.PlotlyConfig = {MathJaxConfig: 'local'};</script>\n",
              "        <script charset=\"utf-8\" src=\"https://cdn.plot.ly/plotly-2.24.1.min.js\"></script>                <div id=\"fdfc690d-4daf-4ee0-aae8-60f604dc3bc9\" class=\"plotly-graph-div\" style=\"height:525px; width:100%;\"></div>            <script type=\"text/javascript\">                                    window.PLOTLYENV=window.PLOTLYENV || {};                                    if (document.getElementById(\"fdfc690d-4daf-4ee0-aae8-60f604dc3bc9\")) {                    Plotly.newPlot(                        \"fdfc690d-4daf-4ee0-aae8-60f604dc3bc9\",                        [{\"hole\":0.3,\"labels\":[\"positive\",\"negative\",\"neutral\"],\"values\":[0.6519021529439,0.22409136507446561,0.12400648198163439],\"type\":\"pie\",\"textfont\":{\"size\":40},\"marker\":{\"line\":{\"color\":\"black\",\"width\":5},\"colors\":[\"green\",\"orange\",\"blue\"]},\"hoverinfo\":\"label+percent\",\"textinfo\":\"percent\"}],                        {\"template\":{\"data\":{\"histogram2dcontour\":[{\"type\":\"histogram2dcontour\",\"colorbar\":{\"outlinewidth\":0,\"ticks\":\"\"},\"colorscale\":[[0.0,\"#0d0887\"],[0.1111111111111111,\"#46039f\"],[0.2222222222222222,\"#7201a8\"],[0.3333333333333333,\"#9c179e\"],[0.4444444444444444,\"#bd3786\"],[0.5555555555555556,\"#d8576b\"],[0.6666666666666666,\"#ed7953\"],[0.7777777777777778,\"#fb9f3a\"],[0.8888888888888888,\"#fdca26\"],[1.0,\"#f0f921\"]]}],\"choropleth\":[{\"type\":\"choropleth\",\"colorbar\":{\"outlinewidth\":0,\"ticks\":\"\"}}],\"histogram2d\":[{\"type\":\"histogram2d\",\"colorbar\":{\"outlinewidth\":0,\"ticks\":\"\"},\"colorscale\":[[0.0,\"#0d0887\"],[0.1111111111111111,\"#46039f\"],[0.2222222222222222,\"#7201a8\"],[0.3333333333333333,\"#9c179e\"],[0.4444444444444444,\"#bd3786\"],[0.5555555555555556,\"#d8576b\"],[0.6666666666666666,\"#ed7953\"],[0.7777777777777778,\"#fb9f3a\"],[0.8888888888888888,\"#fdca26\"],[1.0,\"#f0f921\"]]}],\"heatmap\":[{\"type\":\"heatmap\",\"colorbar\":{\"outlinewidth\":0,\"ticks\":\"\"},\"colorscale\":[[0.0,\"#0d0887\"],[0.1111111111111111,\"#46039f\"],[0.2222222222222222,\"#7201a8\"],[0.3333333333333333,\"#9c179e\"],[0.4444444444444444,\"#bd3786\"],[0.5555555555555556,\"#d8576b\"],[0.6666666666666666,\"#ed7953\"],[0.7777777777777778,\"#fb9f3a\"],[0.8888888888888888,\"#fdca26\"],[1.0,\"#f0f921\"]]}],\"heatmapgl\":[{\"type\":\"heatmapgl\",\"colorbar\":{\"outlinewidth\":0,\"ticks\":\"\"},\"colorscale\":[[0.0,\"#0d0887\"],[0.1111111111111111,\"#46039f\"],[0.2222222222222222,\"#7201a8\"],[0.3333333333333333,\"#9c179e\"],[0.4444444444444444,\"#bd3786\"],[0.5555555555555556,\"#d8576b\"],[0.6666666666666666,\"#ed7953\"],[0.7777777777777778,\"#fb9f3a\"],[0.8888888888888888,\"#fdca26\"],[1.0,\"#f0f921\"]]}],\"contourcarpet\":[{\"type\":\"contourcarpet\",\"colorbar\":{\"outlinewidth\":0,\"ticks\":\"\"}}],\"contour\":[{\"type\":\"contour\",\"colorbar\":{\"outlinewidth\":0,\"ticks\":\"\"},\"colorscale\":[[0.0,\"#0d0887\"],[0.1111111111111111,\"#46039f\"],[0.2222222222222222,\"#7201a8\"],[0.3333333333333333,\"#9c179e\"],[0.4444444444444444,\"#bd3786\"],[0.5555555555555556,\"#d8576b\"],[0.6666666666666666,\"#ed7953\"],[0.7777777777777778,\"#fb9f3a\"],[0.8888888888888888,\"#fdca26\"],[1.0,\"#f0f921\"]]}],\"surface\":[{\"type\":\"surface\",\"colorbar\":{\"outlinewidth\":0,\"ticks\":\"\"},\"colorscale\":[[0.0,\"#0d0887\"],[0.1111111111111111,\"#46039f\"],[0.2222222222222222,\"#7201a8\"],[0.3333333333333333,\"#9c179e\"],[0.4444444444444444,\"#bd3786\"],[0.5555555555555556,\"#d8576b\"],[0.6666666666666666,\"#ed7953\"],[0.7777777777777778,\"#fb9f3a\"],[0.8888888888888888,\"#fdca26\"],[1.0,\"#f0f921\"]]}],\"mesh3d\":[{\"type\":\"mesh3d\",\"colorbar\":{\"outlinewidth\":0,\"ticks\":\"\"}}],\"scatter\":[{\"fillpattern\":{\"fillmode\":\"overlay\",\"size\":10,\"solidity\":0.2},\"type\":\"scatter\"}],\"parcoords\":[{\"type\":\"parcoords\",\"line\":{\"colorbar\":{\"outlinewidth\":0,\"ticks\":\"\"}}}],\"scatterpolargl\":[{\"type\":\"scatterpolargl\",\"marker\":{\"colorbar\":{\"outlinewidth\":0,\"ticks\":\"\"}}}],\"bar\":[{\"error_x\":{\"color\":\"#2a3f5f\"},\"error_y\":{\"color\":\"#2a3f5f\"},\"marker\":{\"line\":{\"color\":\"#E5ECF6\",\"width\":0.5},\"pattern\":{\"fillmode\":\"overlay\",\"size\":10,\"solidity\":0.2}},\"type\":\"bar\"}],\"scattergeo\":[{\"type\":\"scattergeo\",\"marker\":{\"colorbar\":{\"outlinewidth\":0,\"ticks\":\"\"}}}],\"scatterpolar\":[{\"type\":\"scatterpolar\",\"marker\":{\"colorbar\":{\"outlinewidth\":0,\"ticks\":\"\"}}}],\"histogram\":[{\"marker\":{\"pattern\":{\"fillmode\":\"overlay\",\"size\":10,\"solidity\":0.2}},\"type\":\"histogram\"}],\"scattergl\":[{\"type\":\"scattergl\",\"marker\":{\"colorbar\":{\"outlinewidth\":0,\"ticks\":\"\"}}}],\"scatter3d\":[{\"type\":\"scatter3d\",\"line\":{\"colorbar\":{\"outlinewidth\":0,\"ticks\":\"\"}},\"marker\":{\"colorbar\":{\"outlinewidth\":0,\"ticks\":\"\"}}}],\"scattermapbox\":[{\"type\":\"scattermapbox\",\"marker\":{\"colorbar\":{\"outlinewidth\":0,\"ticks\":\"\"}}}],\"scatterternary\":[{\"type\":\"scatterternary\",\"marker\":{\"colorbar\":{\"outlinewidth\":0,\"ticks\":\"\"}}}],\"scattercarpet\":[{\"type\":\"scattercarpet\",\"marker\":{\"colorbar\":{\"outlinewidth\":0,\"ticks\":\"\"}}}],\"carpet\":[{\"aaxis\":{\"endlinecolor\":\"#2a3f5f\",\"gridcolor\":\"white\",\"linecolor\":\"white\",\"minorgridcolor\":\"white\",\"startlinecolor\":\"#2a3f5f\"},\"baxis\":{\"endlinecolor\":\"#2a3f5f\",\"gridcolor\":\"white\",\"linecolor\":\"white\",\"minorgridcolor\":\"white\",\"startlinecolor\":\"#2a3f5f\"},\"type\":\"carpet\"}],\"table\":[{\"cells\":{\"fill\":{\"color\":\"#EBF0F8\"},\"line\":{\"color\":\"white\"}},\"header\":{\"fill\":{\"color\":\"#C8D4E3\"},\"line\":{\"color\":\"white\"}},\"type\":\"table\"}],\"barpolar\":[{\"marker\":{\"line\":{\"color\":\"#E5ECF6\",\"width\":0.5},\"pattern\":{\"fillmode\":\"overlay\",\"size\":10,\"solidity\":0.2}},\"type\":\"barpolar\"}],\"pie\":[{\"automargin\":true,\"type\":\"pie\"}]},\"layout\":{\"autotypenumbers\":\"strict\",\"colorway\":[\"#636efa\",\"#EF553B\",\"#00cc96\",\"#ab63fa\",\"#FFA15A\",\"#19d3f3\",\"#FF6692\",\"#B6E880\",\"#FF97FF\",\"#FECB52\"],\"font\":{\"color\":\"#2a3f5f\"},\"hovermode\":\"closest\",\"hoverlabel\":{\"align\":\"left\"},\"paper_bgcolor\":\"white\",\"plot_bgcolor\":\"#E5ECF6\",\"polar\":{\"bgcolor\":\"#E5ECF6\",\"angularaxis\":{\"gridcolor\":\"white\",\"linecolor\":\"white\",\"ticks\":\"\"},\"radialaxis\":{\"gridcolor\":\"white\",\"linecolor\":\"white\",\"ticks\":\"\"}},\"ternary\":{\"bgcolor\":\"#E5ECF6\",\"aaxis\":{\"gridcolor\":\"white\",\"linecolor\":\"white\",\"ticks\":\"\"},\"baxis\":{\"gridcolor\":\"white\",\"linecolor\":\"white\",\"ticks\":\"\"},\"caxis\":{\"gridcolor\":\"white\",\"linecolor\":\"white\",\"ticks\":\"\"}},\"coloraxis\":{\"colorbar\":{\"outlinewidth\":0,\"ticks\":\"\"}},\"colorscale\":{\"sequential\":[[0.0,\"#0d0887\"],[0.1111111111111111,\"#46039f\"],[0.2222222222222222,\"#7201a8\"],[0.3333333333333333,\"#9c179e\"],[0.4444444444444444,\"#bd3786\"],[0.5555555555555556,\"#d8576b\"],[0.6666666666666666,\"#ed7953\"],[0.7777777777777778,\"#fb9f3a\"],[0.8888888888888888,\"#fdca26\"],[1.0,\"#f0f921\"]],\"sequentialminus\":[[0.0,\"#0d0887\"],[0.1111111111111111,\"#46039f\"],[0.2222222222222222,\"#7201a8\"],[0.3333333333333333,\"#9c179e\"],[0.4444444444444444,\"#bd3786\"],[0.5555555555555556,\"#d8576b\"],[0.6666666666666666,\"#ed7953\"],[0.7777777777777778,\"#fb9f3a\"],[0.8888888888888888,\"#fdca26\"],[1.0,\"#f0f921\"]],\"diverging\":[[0,\"#8e0152\"],[0.1,\"#c51b7d\"],[0.2,\"#de77ae\"],[0.3,\"#f1b6da\"],[0.4,\"#fde0ef\"],[0.5,\"#f7f7f7\"],[0.6,\"#e6f5d0\"],[0.7,\"#b8e186\"],[0.8,\"#7fbc41\"],[0.9,\"#4d9221\"],[1,\"#276419\"]]},\"xaxis\":{\"gridcolor\":\"white\",\"linecolor\":\"white\",\"ticks\":\"\",\"title\":{\"standoff\":15},\"zerolinecolor\":\"white\",\"automargin\":true,\"zerolinewidth\":2},\"yaxis\":{\"gridcolor\":\"white\",\"linecolor\":\"white\",\"ticks\":\"\",\"title\":{\"standoff\":15},\"zerolinecolor\":\"white\",\"automargin\":true,\"zerolinewidth\":2},\"scene\":{\"xaxis\":{\"backgroundcolor\":\"#E5ECF6\",\"gridcolor\":\"white\",\"linecolor\":\"white\",\"showbackground\":true,\"ticks\":\"\",\"zerolinecolor\":\"white\",\"gridwidth\":2},\"yaxis\":{\"backgroundcolor\":\"#E5ECF6\",\"gridcolor\":\"white\",\"linecolor\":\"white\",\"showbackground\":true,\"ticks\":\"\",\"zerolinecolor\":\"white\",\"gridwidth\":2},\"zaxis\":{\"backgroundcolor\":\"#E5ECF6\",\"gridcolor\":\"white\",\"linecolor\":\"white\",\"showbackground\":true,\"ticks\":\"\",\"zerolinecolor\":\"white\",\"gridwidth\":2}},\"shapedefaults\":{\"line\":{\"color\":\"#2a3f5f\"}},\"annotationdefaults\":{\"arrowcolor\":\"#2a3f5f\",\"arrowhead\":0,\"arrowwidth\":1},\"geo\":{\"bgcolor\":\"white\",\"landcolor\":\"#E5ECF6\",\"subunitcolor\":\"white\",\"showland\":true,\"showlakes\":true,\"lakecolor\":\"white\"},\"title\":{\"x\":0.05},\"mapbox\":{\"style\":\"light\"}}},\"title\":{\"text\":\"label\"}},                        {\"responsive\": true}                    ).then(function(){\n",
              "                            \n",
              "var gd = document.getElementById('fdfc690d-4daf-4ee0-aae8-60f604dc3bc9');\n",
              "var x = new MutationObserver(function (mutations, observer) {{\n",
              "        var display = window.getComputedStyle(gd).display;\n",
              "        if (!display || display === 'none') {{\n",
              "            console.log([gd, 'removed!']);\n",
              "            Plotly.purge(gd);\n",
              "            observer.disconnect();\n",
              "        }}\n",
              "}});\n",
              "\n",
              "// Listen for the removal of the full notebook cells\n",
              "var notebookContainer = gd.closest('#notebook-container');\n",
              "if (notebookContainer) {{\n",
              "    x.observe(notebookContainer, {childList: true});\n",
              "}}\n",
              "\n",
              "// Listen for the clearing of the current output cell\n",
              "var outputEl = gd.closest('.output');\n",
              "if (outputEl) {{\n",
              "    x.observe(outputEl, {childList: true});\n",
              "}}\n",
              "\n",
              "                        })                };                            </script>        </div>\n",
              "</body>\n",
              "</html>"
            ]
          },
          "metadata": {}
        }
      ]
    },
    {
      "cell_type": "markdown",
      "source": [
        "# **DATA PREPARATION AND LOGISTIC REGRESSION**"
      ],
      "metadata": {
        "id": "P-de6I9Xhatg"
      }
    },
    {
      "cell_type": "markdown",
      "source": [
        "In this section, we will prepare the data and make a prediction by establishing the logistic regression model. First, let's convert the 'tweet' variable to lowercase."
      ],
      "metadata": {
        "id": "aA7kYo1Rsdql"
      }
    },
    {
      "cell_type": "code",
      "source": [
        "df['tweet'] = df['tweet'].str.lower()"
      ],
      "metadata": {
        "id": "lX-R0vzBho_Y"
      },
      "execution_count": 29,
      "outputs": []
    },
    {
      "cell_type": "markdown",
      "source": [
        "Now let's express the 'label' variable numerically by applying the label encoding process."
      ],
      "metadata": {
        "id": "UZJcvDrCtAjj"
      }
    },
    {
      "cell_type": "code",
      "source": [
        "from sklearn.preprocessing import LabelEncoder\n",
        "label_encoder = LabelEncoder()\n",
        "df['label'] = label_encoder.fit_transform(df['label'])"
      ],
      "metadata": {
        "id": "97ls2jYGtA8A"
      },
      "execution_count": 30,
      "outputs": []
    },
    {
      "cell_type": "markdown",
      "source": [
        "Now let's apply the TF-IDF method using the 'tweet' variable and create the matrix.\n",
        "\n",
        "**Information:** The TF-IDF method is a normalized, standardized word vector creation method to eliminate some biases that the 'count vector' method may reveal. A standardization process is performed focusing on the frequency of occurrence of words in documents and the frequency of occurrence of words in the entire corupus."
      ],
      "metadata": {
        "id": "BqUv1eNdt7FU"
      }
    },
    {
      "cell_type": "code",
      "source": [
        "from sklearn.feature_extraction.text import TfidfVectorizer\n",
        "tfidf_vectorizer = TfidfVectorizer()\n",
        "tfidf_matrix = tfidf_vectorizer.fit_transform(df['tweet'])"
      ],
      "metadata": {
        "id": "M1KAwUfBusCd"
      },
      "execution_count": 31,
      "outputs": []
    },
    {
      "cell_type": "code",
      "source": [
        "print(\"TF-IDF Matrix Size:\", tfidf_matrix.shape)"
      ],
      "metadata": {
        "colab": {
          "base_uri": "https://localhost:8080/"
        },
        "id": "VzQZ7dvTu_VX",
        "outputId": "2a74a50b-4951-419a-804f-7db9d94f7cc0"
      },
      "execution_count": 32,
      "outputs": [
        {
          "output_type": "stream",
          "name": "stdout",
          "text": [
            "TF-IDF Matrix Size: (12959, 45364)\n"
          ]
        }
      ]
    },
    {
      "cell_type": "code",
      "source": [
        "feature_names = tfidf_vectorizer.get_feature_names_out()\n",
        "print(\"First 10 Words:\", feature_names[:10])\n",
        "print(\"TF-IDF Values ​​for First Document:\", tfidf_matrix[0].toarray()[0][:10])"
      ],
      "metadata": {
        "colab": {
          "base_uri": "https://localhost:8080/"
        },
        "id": "geHf-woLvBkF",
        "outputId": "833dd5d2-a5a7-4574-ff18-bc926f62553c"
      },
      "execution_count": 33,
      "outputs": [
        {
          "output_type": "stream",
          "name": "stdout",
          "text": [
            "First 10 Words: ['00' '000' '0000' '00001' '0001' '000800' '001000' '0022' '0057' '0099']\n",
            "TF-IDF Values ​​for First Document: [0. 0. 0. 0. 0. 0. 0. 0. 0. 0.]\n"
          ]
        }
      ]
    },
    {
      "cell_type": "code",
      "source": [
        "# Creating a sample TF-IDF matrix by taking the first 100 words and the first 10 documents\n",
        "tfidf_sample = tfidf_matrix[:10, :100].toarray()\n",
        "feature_names_sample = tfidf_vectorizer.get_feature_names_out()[:100]"
      ],
      "metadata": {
        "id": "s6oqjq-TvQzl"
      },
      "execution_count": 34,
      "outputs": []
    },
    {
      "cell_type": "code",
      "source": [
        "df_tfidf = pd.DataFrame(tfidf_sample, columns=feature_names_sample)\n",
        "\n",
        "# Heatmap\n",
        "plt.figure(figsize=(16, 14))\n",
        "sns.heatmap(df_tfidf, cmap='viridis', linewidths=.5)\n",
        "plt.title('TF-IDF Matrix Heat Map (First 10 Documents and First 100 Words)')\n",
        "plt.xlabel('Words')\n",
        "plt.ylabel('Tweets')\n",
        "plt.show()\n"
      ],
      "metadata": {
        "colab": {
          "base_uri": "https://localhost:8080/",
          "height": 1000
        },
        "id": "YvT-DyfkvbIZ",
        "outputId": "093cbe05-31d4-49e2-f420-c0f2e4cba691"
      },
      "execution_count": 35,
      "outputs": [
        {
          "output_type": "display_data",
          "data": {
            "text/plain": [
              "<Figure size 1600x1400 with 2 Axes>"
            ],
            "image/png": "[encoded data removed]"
          },
          "metadata": {}
        }
      ]
    },
    {
      "cell_type": "markdown",
      "source": [
        "Now let's set up the logistic regression model using the TF-IDF matrix and the 'label' target variable and evaluate the accuracy."
      ],
      "metadata": {
        "id": "2aLzvp3lw_wU"
      }
    },
    {
      "cell_type": "code",
      "source": [
        "from sklearn.model_selection import train_test_split\n",
        "from sklearn.linear_model import LogisticRegression\n",
        "from sklearn.metrics import accuracy_score"
      ],
      "metadata": {
        "id": "ZfymenGmxKTQ"
      },
      "execution_count": 36,
      "outputs": []
    },
    {
      "cell_type": "code",
      "source": [
        "y = df['label']\n",
        "X_train, X_test, y_train, y_test = train_test_split(tfidf_matrix, y, test_size=0.2, random_state=5)\n",
        "model = LogisticRegression(max_iter=10000)\n",
        "model.fit(X_train, y_train)\n",
        "y_pred = model.predict(X_test)\n",
        "accuracy = accuracy_score(y_test, y_pred)\n",
        "print(f\"Model Accuracy: {accuracy:.2}\")"
      ],
      "metadata": {
        "colab": {
          "base_uri": "https://localhost:8080/"
        },
        "id": "rCGwN1DwxNc6",
        "outputId": "f10ce36d-0925-4b84-f2d4-3309e5b583f6"
      },
      "execution_count": 37,
      "outputs": [
        {
          "output_type": "stream",
          "name": "stdout",
          "text": [
            "Model Accuracy: 0.69\n"
          ]
        }
      ]
    },
    {
      "cell_type": "markdown",
      "source": [
        "Now let's read the file named 'tweet_21.csv' and fix the variable types. Then convert them to lower case."
      ],
      "metadata": {
        "id": "B7Gl9FVV6PX8"
      }
    },
    {
      "cell_type": "code",
      "source": [
        "df2 = pd.read_csv(\"tweets_21.csv\")"
      ],
      "metadata": {
        "id": "vKT_kOsf6QiY"
      },
      "execution_count": 38,
      "outputs": []
    },
    {
      "cell_type": "code",
      "source": [
        "df2.dtypes"
      ],
      "metadata": {
        "colab": {
          "base_uri": "https://localhost:8080/",
          "height": 178
        },
        "id": "CtNK99qe6XJq",
        "outputId": "d946eaf0-039d-4431-d23d-890f4948a06c"
      },
      "execution_count": 39,
      "outputs": [
        {
          "output_type": "execute_result",
          "data": {
            "text/plain": [
              "tweet_id     int64\n",
              "tweet       object\n",
              "date        object\n",
              "dtype: object"
            ],
            "text/html": [
              "<div>\n",
              "<style scoped>\n",
              "    .dataframe tbody tr th:only-of-type {\n",
              "        vertical-align: middle;\n",
              "    }\n",
              "\n",
              "    .dataframe tbody tr th {\n",
              "        vertical-align: top;\n",
              "    }\n",
              "\n",
              "    .dataframe thead th {\n",
              "        text-align: right;\n",
              "    }\n",
              "</style>\n",
              "<table border=\"1\" class=\"dataframe\">\n",
              "  <thead>\n",
              "    <tr style=\"text-align: right;\">\n",
              "      <th></th>\n",
              "      <th>0</th>\n",
              "    </tr>\n",
              "  </thead>\n",
              "  <tbody>\n",
              "    <tr>\n",
              "      <th>tweet_id</th>\n",
              "      <td>int64</td>\n",
              "    </tr>\n",
              "    <tr>\n",
              "      <th>tweet</th>\n",
              "      <td>object</td>\n",
              "    </tr>\n",
              "    <tr>\n",
              "      <th>date</th>\n",
              "      <td>object</td>\n",
              "    </tr>\n",
              "  </tbody>\n",
              "</table>\n",
              "</div><br><label><b>dtype:</b> object</label>"
            ]
          },
          "metadata": {},
          "execution_count": 39
        }
      ]
    },
    {
      "cell_type": "code",
      "source": [
        "df2['date'] = pd.to_datetime(df2['date'], errors='coerce')"
      ],
      "metadata": {
        "id": "14k7IFHu7Qin"
      },
      "execution_count": 40,
      "outputs": []
    },
    {
      "cell_type": "code",
      "source": [
        "df2['tweet'] = df2['tweet'].str.lower()"
      ],
      "metadata": {
        "id": "S4Vz1Zbg7bDY"
      },
      "execution_count": 41,
      "outputs": []
    },
    {
      "cell_type": "markdown",
      "source": [
        "# **PREDICTION OF SENTIMENT IN TWEETS**"
      ],
      "metadata": {
        "id": "LQ6UJapF7i4c"
      }
    },
    {
      "cell_type": "markdown",
      "source": [
        "Let's perform the prediction process for tweets from 2021 using 'tf_idfvectorizer' and logistic regression model. Let's create a variable named 'label' for the prediction results we obtained and save the predictions."
      ],
      "metadata": {
        "id": "X4UkxZlM7orD"
      }
    },
    {
      "cell_type": "code",
      "source": [
        "X_tfidf_21 = tfidf_vectorizer.transform(df2['tweet'])\n",
        "df2['label'] = model.predict(X_tfidf_21)"
      ],
      "metadata": {
        "id": "LbcusX9g75Ze"
      },
      "execution_count": 42,
      "outputs": []
    },
    {
      "cell_type": "code",
      "source": [
        "df2.tail(35)"
      ],
      "metadata": {
        "id": "Gltt89-985ok",
        "outputId": "ee1b5f8d-550e-4b9d-ba04-653ab1dd5edd",
        "colab": {
          "base_uri": "https://localhost:8080/",
          "height": 1000
        }
      },
      "execution_count": 43,
      "outputs": [
        {
          "output_type": "execute_result",
          "data": {
            "text/plain": [
              "                  tweet_id                                              tweet                date  label\n",
              "13237  1476606051386544131  finallere çalışacağım aklıma gelince tüm yaşam... 2021-12-30 20:28:11      1\n",
              "13238  1476606101646888965  minibusu kacirdim, eve gecikicem (19.00) diye ... 2021-12-30 20:28:23      1\n",
              "13239  1476610889549766667  biz mutlu olana kadar \\n        hayat \\nbitece... 2021-12-30 20:47:24      0\n",
              "13240  1476616089677312004  bu sene de 00:00 seni seviyorum mesajı gelmice... 2021-12-30 21:08:04      1\n",
              "13241  1476616337208315910  özel günleri önemsiyorum. ailem için de hep öy... 2021-12-30 21:09:03      1\n",
              "13242  1476623459451121666  yarın 2 tane musevi bayanla birlikteyiz.. 19:0... 2021-12-30 21:37:21      1\n",
              "13243  1476625360364130305  yarın 00.00 da kimseye o istediği mesaj gelmey... 2021-12-30 21:44:54      1\n",
              "13244  1476628814105124867  ayy herkes yeni yıl planı yapıyor ne değişecek... 2021-12-30 21:58:38      1\n",
              "13245  1476631875191980046  düşünsenize yeni yılda saat 00:00'da \"seni sev... 2021-12-30 22:10:48      2\n",
              "13246  1476634544002457608  yeni yıla girerken 00.00 da şöyle bir mesaj \"h... 2021-12-30 22:21:24      1\n",
              "13247  1476634599593758722  şuan düğündeyim beni mutlu eden tek şey elime ... 2021-12-30 22:21:37      1\n",
              "13248  1476636441065234434        bir şehri sevmek için tek bir insan yeterli 2021-12-30 22:28:56      1\n",
              "13249  1476641450985197573            sadece beni mutlu eden şeylere müsaitim 2021-12-30 22:48:51      1\n",
              "13250  1476645481354825728  2022'ye gireceğimiz için heyecanlı değilim muh... 2021-12-30 23:04:52      1\n",
              "13251  1476649564983730187  belkiler hep umut olsa da, keşkeler hep can ya... 2021-12-30 23:21:05      1\n",
              "13252  1476649649679314947  kimse yarın 00.00 da seni seviyorum mesaji alm... 2021-12-30 23:21:25      1\n",
              "13253  1476651296375640068  bazı insanları sevecek kadar aptal değilde, ap... 2021-12-30 23:27:58      0\n",
              "13254  1476651501825241093  ne yalnızlık, ne de yalan \\nüzmesin seni.\\ndoğ... 2021-12-30 23:28:47      1\n",
              "13255  1476653151180800004       hayaller dim dik dik, çekemeyen riv riv riv🍷 2021-12-30 23:35:20      1\n",
              "13256  1476658199268839429  herkes  yıl başında değer verdiği sevdiği kişi... 2021-12-30 23:55:24      1\n",
              "13257  1476659362483646471  00.00 her şey güzel olacak mutlu olacağız aşkı... 2021-12-31 00:00:01      2\n",
              "13258  1476659404703469568  00:00 🌼🦋🌼\\n\\nbir yalnızlık duydum ta içimin de... 2021-12-31 00:00:11      1\n",
              "13259  1476659431043735560                   00.00 jimin seni çok seviyorum ~ 2021-12-31 00:00:18      2\n",
              "13260  1476659474530189319                        tam 00:00 ama çok seviyorum 2021-12-31 00:00:28      2\n",
              "13261  1476659540192116736  00.00 n.flying'im~ sizi bu yılın 365 gününde d... 2021-12-31 00:00:44      1\n",
              "13262  1476660248509358080  sevgili günlük doğum günümü kimse 00:00'da kut... 2021-12-31 00:03:32      1\n",
              "13263  1476661455562973187                                 00.08 sevdiklerime 2021-12-31 00:08:20      1\n",
              "13264  1476665580581273607  sana not buse, \\nbu yıl hayatına çok güzel ins... 2021-12-31 00:24:44      1\n",
              "13265  1476666205972926469  i̇mkanı olan sevdiğine sarılsın! bize, zaman\\n... 2021-12-31 00:27:13      1\n",
              "13266  1476666877556441092  şuan hangi yıldayız?? yarın 00.01 sevdiğiniz k... 2021-12-31 00:29:53      1\n",
              "13267  1476668505139421190  yarın gece saat 00:00 da hiç kimse yeni yıl me... 2021-12-31 00:36:21      1\n",
              "13268  1476670856202002432  x kişisi: yılbaşı akşamı sevdiğim kişiyle yeni... 2021-12-31 00:45:41      1\n",
              "13269  1476677379422670853  yarın tam 00:00 da kime mesaj atıp mutlu edeyi... 2021-12-31 01:11:37      1\n",
              "13270  1476698672062775304  lütfen gece 00:00'a huzurlu girmek istiyorum. ... 2021-12-31 02:36:13      1\n",
              "13271  1476703095837110276  yılbasi gecesi 00:00’da seni seviyorum mesajin... 2021-12-31 02:53:48      1"
            ],
            "text/html": [
              "\n",
              "  <div id=\"df-cbd6effb-c488-48d3-882e-9e464483f5d5\" class=\"colab-df-container\">\n",
              "    <div>\n",
              "<style scoped>\n",
              "    .dataframe tbody tr th:only-of-type {\n",
              "        vertical-align: middle;\n",
              "    }\n",
              "\n",
              "    .dataframe tbody tr th {\n",
              "        vertical-align: top;\n",
              "    }\n",
              "\n",
              "    .dataframe thead th {\n",
              "        text-align: right;\n",
              "    }\n",
              "</style>\n",
              "<table border=\"1\" class=\"dataframe\">\n",
              "  <thead>\n",
              "    <tr style=\"text-align: right;\">\n",
              "      <th></th>\n",
              "      <th>tweet_id</th>\n",
              "      <th>tweet</th>\n",
              "      <th>date</th>\n",
              "      <th>label</th>\n",
              "    </tr>\n",
              "  </thead>\n",
              "  <tbody>\n",
              "    <tr>\n",
              "      <th>13237</th>\n",
              "      <td>1476606051386544131</td>\n",
              "      <td>finallere çalışacağım aklıma gelince tüm yaşam...</td>\n",
              "      <td>2021-12-30 20:28:11</td>\n",
              "      <td>1</td>\n",
              "    </tr>\n",
              "    <tr>\n",
              "      <th>13238</th>\n",
              "      <td>1476606101646888965</td>\n",
              "      <td>minibusu kacirdim, eve gecikicem (19.00) diye ...</td>\n",
              "      <td>2021-12-30 20:28:23</td>\n",
              "      <td>1</td>\n",
              "    </tr>\n",
              "    <tr>\n",
              "      <th>13239</th>\n",
              "      <td>1476610889549766667</td>\n",
              "      <td>biz mutlu olana kadar \\n        hayat \\nbitece...</td>\n",
              "      <td>2021-12-30 20:47:24</td>\n",
              "      <td>0</td>\n",
              "    </tr>\n",
              "    <tr>\n",
              "      <th>13240</th>\n",
              "      <td>1476616089677312004</td>\n",
              "      <td>bu sene de 00:00 seni seviyorum mesajı gelmice...</td>\n",
              "      <td>2021-12-30 21:08:04</td>\n",
              "      <td>1</td>\n",
              "    </tr>\n",
              "    <tr>\n",
              "      <th>13241</th>\n",
              "      <td>1476616337208315910</td>\n",
              "      <td>özel günleri önemsiyorum. ailem için de hep öy...</td>\n",
              "      <td>2021-12-30 21:09:03</td>\n",
              "      <td>1</td>\n",
              "    </tr>\n",
              "    <tr>\n",
              "      <th>13242</th>\n",
              "      <td>1476623459451121666</td>\n",
              "      <td>yarın 2 tane musevi bayanla birlikteyiz.. 19:0...</td>\n",
              "      <td>2021-12-30 21:37:21</td>\n",
              "      <td>1</td>\n",
              "    </tr>\n",
              "    <tr>\n",
              "      <th>13243</th>\n",
              "      <td>1476625360364130305</td>\n",
              "      <td>yarın 00.00 da kimseye o istediği mesaj gelmey...</td>\n",
              "      <td>2021-12-30 21:44:54</td>\n",
              "      <td>1</td>\n",
              "    </tr>\n",
              "    <tr>\n",
              "      <th>13244</th>\n",
              "      <td>1476628814105124867</td>\n",
              "      <td>ayy herkes yeni yıl planı yapıyor ne değişecek...</td>\n",
              "      <td>2021-12-30 21:58:38</td>\n",
              "      <td>1</td>\n",
              "    </tr>\n",
              "    <tr>\n",
              "      <th>13245</th>\n",
              "      <td>1476631875191980046</td>\n",
              "      <td>düşünsenize yeni yılda saat 00:00'da \"seni sev...</td>\n",
              "      <td>2021-12-30 22:10:48</td>\n",
              "      <td>2</td>\n",
              "    </tr>\n",
              "    <tr>\n",
              "      <th>13246</th>\n",
              "      <td>1476634544002457608</td>\n",
              "      <td>yeni yıla girerken 00.00 da şöyle bir mesaj \"h...</td>\n",
              "      <td>2021-12-30 22:21:24</td>\n",
              "      <td>1</td>\n",
              "    </tr>\n",
              "    <tr>\n",
              "      <th>13247</th>\n",
              "      <td>1476634599593758722</td>\n",
              "      <td>şuan düğündeyim beni mutlu eden tek şey elime ...</td>\n",
              "      <td>2021-12-30 22:21:37</td>\n",
              "      <td>1</td>\n",
              "    </tr>\n",
              "    <tr>\n",
              "      <th>13248</th>\n",
              "      <td>1476636441065234434</td>\n",
              "      <td>bir şehri sevmek için tek bir insan yeterli</td>\n",
              "      <td>2021-12-30 22:28:56</td>\n",
              "      <td>1</td>\n",
              "    </tr>\n",
              "    <tr>\n",
              "      <th>13249</th>\n",
              "      <td>1476641450985197573</td>\n",
              "      <td>sadece beni mutlu eden şeylere müsaitim</td>\n",
              "      <td>2021-12-30 22:48:51</td>\n",
              "      <td>1</td>\n",
              "    </tr>\n",
              "    <tr>\n",
              "      <th>13250</th>\n",
              "      <td>1476645481354825728</td>\n",
              "      <td>2022'ye gireceğimiz için heyecanlı değilim muh...</td>\n",
              "      <td>2021-12-30 23:04:52</td>\n",
              "      <td>1</td>\n",
              "    </tr>\n",
              "    <tr>\n",
              "      <th>13251</th>\n",
              "      <td>1476649564983730187</td>\n",
              "      <td>belkiler hep umut olsa da, keşkeler hep can ya...</td>\n",
              "      <td>2021-12-30 23:21:05</td>\n",
              "      <td>1</td>\n",
              "    </tr>\n",
              "    <tr>\n",
              "      <th>13252</th>\n",
              "      <td>1476649649679314947</td>\n",
              "      <td>kimse yarın 00.00 da seni seviyorum mesaji alm...</td>\n",
              "      <td>2021-12-30 23:21:25</td>\n",
              "      <td>1</td>\n",
              "    </tr>\n",
              "    <tr>\n",
              "      <th>13253</th>\n",
              "      <td>1476651296375640068</td>\n",
              "      <td>bazı insanları sevecek kadar aptal değilde, ap...</td>\n",
              "      <td>2021-12-30 23:27:58</td>\n",
              "      <td>0</td>\n",
              "    </tr>\n",
              "    <tr>\n",
              "      <th>13254</th>\n",
              "      <td>1476651501825241093</td>\n",
              "      <td>ne yalnızlık, ne de yalan \\nüzmesin seni.\\ndoğ...</td>\n",
              "      <td>2021-12-30 23:28:47</td>\n",
              "      <td>1</td>\n",
              "    </tr>\n",
              "    <tr>\n",
              "      <th>13255</th>\n",
              "      <td>1476653151180800004</td>\n",
              "      <td>hayaller dim dik dik, çekemeyen riv riv riv🍷</td>\n",
              "      <td>2021-12-30 23:35:20</td>\n",
              "      <td>1</td>\n",
              "    </tr>\n",
              "    <tr>\n",
              "      <th>13256</th>\n",
              "      <td>1476658199268839429</td>\n",
              "      <td>herkes  yıl başında değer verdiği sevdiği kişi...</td>\n",
              "      <td>2021-12-30 23:55:24</td>\n",
              "      <td>1</td>\n",
              "    </tr>\n",
              "    <tr>\n",
              "      <th>13257</th>\n",
              "      <td>1476659362483646471</td>\n",
              "      <td>00.00 her şey güzel olacak mutlu olacağız aşkı...</td>\n",
              "      <td>2021-12-31 00:00:01</td>\n",
              "      <td>2</td>\n",
              "    </tr>\n",
              "    <tr>\n",
              "      <th>13258</th>\n",
              "      <td>1476659404703469568</td>\n",
              "      <td>00:00 🌼🦋🌼\\n\\nbir yalnızlık duydum ta içimin de...</td>\n",
              "      <td>2021-12-31 00:00:11</td>\n",
              "      <td>1</td>\n",
              "    </tr>\n",
              "    <tr>\n",
              "      <th>13259</th>\n",
              "      <td>1476659431043735560</td>\n",
              "      <td>00.00 jimin seni çok seviyorum ~</td>\n",
              "      <td>2021-12-31 00:00:18</td>\n",
              "      <td>2</td>\n",
              "    </tr>\n",
              "    <tr>\n",
              "      <th>13260</th>\n",
              "      <td>1476659474530189319</td>\n",
              "      <td>tam 00:00 ama çok seviyorum</td>\n",
              "      <td>2021-12-31 00:00:28</td>\n",
              "      <td>2</td>\n",
              "    </tr>\n",
              "    <tr>\n",
              "      <th>13261</th>\n",
              "      <td>1476659540192116736</td>\n",
              "      <td>00.00 n.flying'im~ sizi bu yılın 365 gününde d...</td>\n",
              "      <td>2021-12-31 00:00:44</td>\n",
              "      <td>1</td>\n",
              "    </tr>\n",
              "    <tr>\n",
              "      <th>13262</th>\n",
              "      <td>1476660248509358080</td>\n",
              "      <td>sevgili günlük doğum günümü kimse 00:00'da kut...</td>\n",
              "      <td>2021-12-31 00:03:32</td>\n",
              "      <td>1</td>\n",
              "    </tr>\n",
              "    <tr>\n",
              "      <th>13263</th>\n",
              "      <td>1476661455562973187</td>\n",
              "      <td>00.08 sevdiklerime</td>\n",
              "      <td>2021-12-31 00:08:20</td>\n",
              "      <td>1</td>\n",
              "    </tr>\n",
              "    <tr>\n",
              "      <th>13264</th>\n",
              "      <td>1476665580581273607</td>\n",
              "      <td>sana not buse, \\nbu yıl hayatına çok güzel ins...</td>\n",
              "      <td>2021-12-31 00:24:44</td>\n",
              "      <td>1</td>\n",
              "    </tr>\n",
              "    <tr>\n",
              "      <th>13265</th>\n",
              "      <td>1476666205972926469</td>\n",
              "      <td>i̇mkanı olan sevdiğine sarılsın! bize, zaman\\n...</td>\n",
              "      <td>2021-12-31 00:27:13</td>\n",
              "      <td>1</td>\n",
              "    </tr>\n",
              "    <tr>\n",
              "      <th>13266</th>\n",
              "      <td>1476666877556441092</td>\n",
              "      <td>şuan hangi yıldayız?? yarın 00.01 sevdiğiniz k...</td>\n",
              "      <td>2021-12-31 00:29:53</td>\n",
              "      <td>1</td>\n",
              "    </tr>\n",
              "    <tr>\n",
              "      <th>13267</th>\n",
              "      <td>1476668505139421190</td>\n",
              "      <td>yarın gece saat 00:00 da hiç kimse yeni yıl me...</td>\n",
              "      <td>2021-12-31 00:36:21</td>\n",
              "      <td>1</td>\n",
              "    </tr>\n",
              "    <tr>\n",
              "      <th>13268</th>\n",
              "      <td>1476670856202002432</td>\n",
              "      <td>x kişisi: yılbaşı akşamı sevdiğim kişiyle yeni...</td>\n",
              "      <td>2021-12-31 00:45:41</td>\n",
              "      <td>1</td>\n",
              "    </tr>\n",
              "    <tr>\n",
              "      <th>13269</th>\n",
              "      <td>1476677379422670853</td>\n",
              "      <td>yarın tam 00:00 da kime mesaj atıp mutlu edeyi...</td>\n",
              "      <td>2021-12-31 01:11:37</td>\n",
              "      <td>1</td>\n",
              "    </tr>\n",
              "    <tr>\n",
              "      <th>13270</th>\n",
              "      <td>1476698672062775304</td>\n",
              "      <td>lütfen gece 00:00'a huzurlu girmek istiyorum. ...</td>\n",
              "      <td>2021-12-31 02:36:13</td>\n",
              "      <td>1</td>\n",
              "    </tr>\n",
              "    <tr>\n",
              "      <th>13271</th>\n",
              "      <td>1476703095837110276</td>\n",
              "      <td>yılbasi gecesi 00:00’da seni seviyorum mesajin...</td>\n",
              "      <td>2021-12-31 02:53:48</td>\n",
              "      <td>1</td>\n",
              "    </tr>\n",
              "  </tbody>\n",
              "</table>\n",
              "</div>\n",
              "    <div class=\"colab-df-buttons\">\n",
              "\n",
              "  <div class=\"colab-df-container\">\n",
              "    <button class=\"colab-df-convert\" onclick=\"convertToInteractive('df-cbd6effb-c488-48d3-882e-9e464483f5d5')\"\n",
              "            title=\"Convert this dataframe to an interactive table.\"\n",
              "            style=\"display:none;\">\n",
              "\n",
              "  <svg xmlns=\"http://www.w3.org/2000/svg\" height=\"24px\" viewBox=\"0 -960 960 960\">\n",
              "    <path d=\"M120-120v-720h720v720H120Zm60-500h600v-160H180v160Zm220 220h160v-160H400v160Zm0 220h160v-160H400v160ZM180-400h160v-160H180v160Zm440 0h160v-160H620v160ZM180-180h160v-160H180v160Zm440 0h160v-160H620v160Z\"/>\n",
              "  </svg>\n",
              "    </button>\n",
              "\n",
              "  <style>\n",
              "    .colab-df-container {\n",
              "      display:flex;\n",
              "      gap: 12px;\n",
              "    }\n",
              "\n",
              "    .colab-df-convert {\n",
              "      background-color: #E8F0FE;\n",
              "      border: none;\n",
              "      border-radius: 50%;\n",
              "      cursor: pointer;\n",
              "      display: none;\n",
              "      fill: #1967D2;\n",
              "      height: 32px;\n",
              "      padding: 0 0 0 0;\n",
              "      width: 32px;\n",
              "    }\n",
              "\n",
              "    .colab-df-convert:hover {\n",
              "      background-color: #E2EBFA;\n",
              "      box-shadow: 0px 1px 2px rgba(60, 64, 67, 0.3), 0px 1px 3px 1px rgba(60, 64, 67, 0.15);\n",
              "      fill: #174EA6;\n",
              "    }\n",
              "\n",
              "    .colab-df-buttons div {\n",
              "      margin-bottom: 4px;\n",
              "    }\n",
              "\n",
              "    [theme=dark] .colab-df-convert {\n",
              "      background-color: #3B4455;\n",
              "      fill: #D2E3FC;\n",
              "    }\n",
              "\n",
              "    [theme=dark] .colab-df-convert:hover {\n",
              "      background-color: #434B5C;\n",
              "      box-shadow: 0px 1px 3px 1px rgba(0, 0, 0, 0.15);\n",
              "      filter: drop-shadow(0px 1px 2px rgba(0, 0, 0, 0.3));\n",
              "      fill: #FFFFFF;\n",
              "    }\n",
              "  </style>\n",
              "\n",
              "    <script>\n",
              "      const buttonEl =\n",
              "        document.querySelector('#df-cbd6effb-c488-48d3-882e-9e464483f5d5 button.colab-df-convert');\n",
              "      buttonEl.style.display =\n",
              "        google.colab.kernel.accessAllowed ? 'block' : 'none';\n",
              "\n",
              "      async function convertToInteractive(key) {\n",
              "        const element = document.querySelector('#df-cbd6effb-c488-48d3-882e-9e464483f5d5');\n",
              "        const dataTable =\n",
              "          await google.colab.kernel.invokeFunction('convertToInteractive',\n",
              "                                                    [key], {});\n",
              "        if (!dataTable) return;\n",
              "\n",
              "        const docLinkHtml = 'Like what you see? Visit the ' +\n",
              "          '<a target=\"_blank\" href=https://colab.research.google.com/notebooks/data_table.ipynb>data table notebook</a>'\n",
              "          + ' to learn more about interactive tables.';\n",
              "        element.innerHTML = '';\n",
              "        dataTable['output_type'] = 'display_data';\n",
              "        await google.colab.output.renderOutput(dataTable, element);\n",
              "        const docLink = document.createElement('div');\n",
              "        docLink.innerHTML = docLinkHtml;\n",
              "        element.appendChild(docLink);\n",
              "      }\n",
              "    </script>\n",
              "  </div>\n",
              "\n",
              "\n",
              "<div id=\"df-cc4db7f7-efeb-4ace-b397-25ad6d786eb0\">\n",
              "  <button class=\"colab-df-quickchart\" onclick=\"quickchart('df-cc4db7f7-efeb-4ace-b397-25ad6d786eb0')\"\n",
              "            title=\"Suggest charts\"\n",
              "            style=\"display:none;\">\n",
              "\n",
              "<svg xmlns=\"http://www.w3.org/2000/svg\" height=\"24px\"viewBox=\"0 0 24 24\"\n",
              "     width=\"24px\">\n",
              "    <g>\n",
              "        <path d=\"M19 3H5c-1.1 0-2 .9-2 2v14c0 1.1.9 2 2 2h14c1.1 0 2-.9 2-2V5c0-1.1-.9-2-2-2zM9 17H7v-7h2v7zm4 0h-2V7h2v10zm4 0h-2v-4h2v4z\"/>\n",
              "    </g>\n",
              "</svg>\n",
              "  </button>\n",
              "\n",
              "<style>\n",
              "  .colab-df-quickchart {\n",
              "      --bg-color: #E8F0FE;\n",
              "      --fill-color: #1967D2;\n",
              "      --hover-bg-color: #E2EBFA;\n",
              "      --hover-fill-color: #174EA6;\n",
              "      --disabled-fill-color: #AAA;\n",
              "      --disabled-bg-color: #DDD;\n",
              "  }\n",
              "\n",
              "  [theme=dark] .colab-df-quickchart {\n",
              "      --bg-color: #3B4455;\n",
              "      --fill-color: #D2E3FC;\n",
              "      --hover-bg-color: #434B5C;\n",
              "      --hover-fill-color: #FFFFFF;\n",
              "      --disabled-bg-color: #3B4455;\n",
              "      --disabled-fill-color: #666;\n",
              "  }\n",
              "\n",
              "  .colab-df-quickchart {\n",
              "    background-color: var(--bg-color);\n",
              "    border: none;\n",
              "    border-radius: 50%;\n",
              "    cursor: pointer;\n",
              "    display: none;\n",
              "    fill: var(--fill-color);\n",
              "    height: 32px;\n",
              "    padding: 0;\n",
              "    width: 32px;\n",
              "  }\n",
              "\n",
              "  .colab-df-quickchart:hover {\n",
              "    background-color: var(--hover-bg-color);\n",
              "    box-shadow: 0 1px 2px rgba(60, 64, 67, 0.3), 0 1px 3px 1px rgba(60, 64, 67, 0.15);\n",
              "    fill: var(--button-hover-fill-color);\n",
              "  }\n",
              "\n",
              "  .colab-df-quickchart-complete:disabled,\n",
              "  .colab-df-quickchart-complete:disabled:hover {\n",
              "    background-color: var(--disabled-bg-color);\n",
              "    fill: var(--disabled-fill-color);\n",
              "    box-shadow: none;\n",
              "  }\n",
              "\n",
              "  .colab-df-spinner {\n",
              "    border: 2px solid var(--fill-color);\n",
              "    border-color: transparent;\n",
              "    border-bottom-color: var(--fill-color);\n",
              "    animation:\n",
              "      spin 1s steps(1) infinite;\n",
              "  }\n",
              "\n",
              "  @keyframes spin {\n",
              "    0% {\n",
              "      border-color: transparent;\n",
              "      border-bottom-color: var(--fill-color);\n",
              "      border-left-color: var(--fill-color);\n",
              "    }\n",
              "    20% {\n",
              "      border-color: transparent;\n",
              "      border-left-color: var(--fill-color);\n",
              "      border-top-color: var(--fill-color);\n",
              "    }\n",
              "    30% {\n",
              "      border-color: transparent;\n",
              "      border-left-color: var(--fill-color);\n",
              "      border-top-color: var(--fill-color);\n",
              "      border-right-color: var(--fill-color);\n",
              "    }\n",
              "    40% {\n",
              "      border-color: transparent;\n",
              "      border-right-color: var(--fill-color);\n",
              "      border-top-color: var(--fill-color);\n",
              "    }\n",
              "    60% {\n",
              "      border-color: transparent;\n",
              "      border-right-color: var(--fill-color);\n",
              "    }\n",
              "    80% {\n",
              "      border-color: transparent;\n",
              "      border-right-color: var(--fill-color);\n",
              "      border-bottom-color: var(--fill-color);\n",
              "    }\n",
              "    90% {\n",
              "      border-color: transparent;\n",
              "      border-bottom-color: var(--fill-color);\n",
              "    }\n",
              "  }\n",
              "</style>\n",
              "\n",
              "  <script>\n",
              "    async function quickchart(key) {\n",
              "      const quickchartButtonEl =\n",
              "        document.querySelector('#' + key + ' button');\n",
              "      quickchartButtonEl.disabled = true;  // To prevent multiple clicks.\n",
              "      quickchartButtonEl.classList.add('colab-df-spinner');\n",
              "      try {\n",
              "        const charts = await google.colab.kernel.invokeFunction(\n",
              "            'suggestCharts', [key], {});\n",
              "      } catch (error) {\n",
              "        console.error('Error during call to suggestCharts:', error);\n",
              "      }\n",
              "      quickchartButtonEl.classList.remove('colab-df-spinner');\n",
              "      quickchartButtonEl.classList.add('colab-df-quickchart-complete');\n",
              "    }\n",
              "    (() => {\n",
              "      let quickchartButtonEl =\n",
              "        document.querySelector('#df-cc4db7f7-efeb-4ace-b397-25ad6d786eb0 button');\n",
              "      quickchartButtonEl.style.display =\n",
              "        google.colab.kernel.accessAllowed ? 'block' : 'none';\n",
              "    })();\n",
              "  </script>\n",
              "</div>\n",
              "\n",
              "    </div>\n",
              "  </div>\n"
            ],
            "application/vnd.google.colaboratory.intrinsic+json": {
              "type": "dataframe",
              "summary": "{\n  \"name\": \"df2\",\n  \"rows\": 35,\n  \"fields\": [\n    {\n      \"column\": \"tweet_id\",\n      \"properties\": {\n        \"dtype\": \"number\",\n        \"std\": 23470579180308,\n        \"min\": 1476606051386544131,\n        \"max\": 1476703095837110276,\n        \"num_unique_values\": 35,\n        \"samples\": [\n          1476661455562973187,\n          1476645481354825728,\n          1476659540192116736\n        ],\n        \"semantic_type\": \"\",\n        \"description\": \"\"\n      }\n    },\n    {\n      \"column\": \"tweet\",\n      \"properties\": {\n        \"dtype\": \"string\",\n        \"num_unique_values\": 35,\n        \"samples\": [\n          \"00.08 sevdiklerime\",\n          \"2022'ye girece\\u011fimiz i\\u00e7in heyecanl\\u0131 de\\u011filim muhtemelen yar\\u0131n saat 00.00'da 789512151.r\\u00fcyam\\u0131 g\\u00f6recek olucam\",\n          \"00.00 n.flying'im~ sizi bu y\\u0131l\\u0131n 365 g\\u00fcn\\u00fcnde de \\u00e7ok sevdim ve son g\\u00fcn\\u00fcnde de seviyorum\"\n        ],\n        \"semantic_type\": \"\",\n        \"description\": \"\"\n      }\n    },\n    {\n      \"column\": \"date\",\n      \"properties\": {\n        \"dtype\": \"date\",\n        \"min\": \"2021-12-30 20:28:11\",\n        \"max\": \"2021-12-31 02:53:48\",\n        \"num_unique_values\": 35,\n        \"samples\": [\n          \"2021-12-31 00:08:20\",\n          \"2021-12-30 23:04:52\",\n          \"2021-12-31 00:00:44\"\n        ],\n        \"semantic_type\": \"\",\n        \"description\": \"\"\n      }\n    },\n    {\n      \"column\": \"label\",\n      \"properties\": {\n        \"dtype\": \"number\",\n        \"std\": 0,\n        \"min\": 0,\n        \"max\": 2,\n        \"num_unique_values\": 3,\n        \"samples\": [\n          1,\n          0,\n          2\n        ],\n        \"semantic_type\": \"\",\n        \"description\": \"\"\n      }\n    }\n  ]\n}"
            }
          },
          "metadata": {},
          "execution_count": 43
        }
      ]
    },
    {
      "cell_type": "markdown",
      "source": [
        "The project ends here. A pipeline.py file has been created for the processes here. The processes have been functionalized and automated."
      ],
      "metadata": {
        "id": "-8ph84OC80uc"
      }
    }
  ]
}